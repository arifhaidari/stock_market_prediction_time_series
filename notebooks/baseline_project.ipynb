{
 "cells": [
  {
   "cell_type": "markdown",
   "metadata": {},
   "source": [
    "This notebook is based on the article published on Medium by Abhishek Shaw.<br>\n",
    "Title of article: Article Python Project: Building a Real-Time Stock Market Price Prediction System.<br>\n",
    "The purpose of this notebook is benchmarking for my own models."
   ]
  },
  {
   "cell_type": "markdown",
   "metadata": {},
   "source": []
  }
 ],
 "metadata": {
  "language_info": {
   "name": "python"
  }
 },
 "nbformat": 4,
 "nbformat_minor": 2
}
